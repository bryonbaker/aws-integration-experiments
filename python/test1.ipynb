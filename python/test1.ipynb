{
 "cells": [
  {
   "cell_type": "markdown",
   "id": "8aa99573-32d5-418e-b011-4f8f4ca24279",
   "metadata": {},
   "source": [
    "# Install essential libraries"
   ]
  },
  {
   "cell_type": "code",
   "execution_count": 1,
   "id": "405dac6e-c2a0-44c3-a556-09a0ee351a6d",
   "metadata": {},
   "outputs": [
    {
     "name": "stdout",
     "output_type": "stream",
     "text": [
      "Requirement already satisfied: PyYAML in /opt/app-root/lib/python3.9/site-packages (5.4.1)\n",
      "Requirement already satisfied: boto3 in /opt/app-root/lib/python3.9/site-packages (1.26.147)\n",
      "Requirement already satisfied: botocore<1.30.0,>=1.29.147 in /opt/app-root/lib/python3.9/site-packages (from boto3) (1.29.147)\n",
      "Requirement already satisfied: jmespath<2.0.0,>=0.7.1 in /opt/app-root/lib/python3.9/site-packages (from boto3) (1.0.1)\n",
      "Requirement already satisfied: s3transfer<0.7.0,>=0.6.0 in /opt/app-root/lib/python3.9/site-packages (from boto3) (0.6.1)\n",
      "Requirement already satisfied: python-dateutil<3.0.0,>=2.1 in /opt/app-root/lib/python3.9/site-packages (from botocore<1.30.0,>=1.29.147->boto3) (2.8.2)\n",
      "Requirement already satisfied: urllib3<1.27,>=1.25.4 in /opt/app-root/lib/python3.9/site-packages (from botocore<1.30.0,>=1.29.147->boto3) (1.26.16)\n",
      "Requirement already satisfied: six>=1.5 in /opt/app-root/lib/python3.9/site-packages (from python-dateutil<3.0.0,>=2.1->botocore<1.30.0,>=1.29.147->boto3) (1.16.0)\n"
     ]
    }
   ],
   "source": [
    "!pip install PyYAML\n",
    "!pip install boto3"
   ]
  },
  {
   "cell_type": "code",
   "execution_count": 2,
   "id": "6ae3b1d8-11ed-4cb3-ade9-b78e4697bc24",
   "metadata": {},
   "outputs": [],
   "source": [
    "import os\n",
    "import boto3"
   ]
  },
  {
   "cell_type": "raw",
   "id": "92bb0ee7-a411-476b-a256-b6b1f5da3ea8",
   "metadata": {},
   "source": []
  },
  {
   "cell_type": "code",
   "execution_count": 3,
   "id": "2b600088-6c54-4390-a7d8-690c47f93198",
   "metadata": {},
   "outputs": [],
   "source": [
    "def get_secrets(file_name):\n",
    "    # AWS_SECRET_ACCESS_KEY\n",
    "    # AWS_ACCESS_KEY_ID\n",
    "    secret_env_name = 'AWS_SECRET_ACCESS_KEY'\n",
    "    access_key_env_name = 'AWS_ACCESS_KEY_ID'\n",
    "\n",
    "    # Retrieve the value of the environment variable\n",
    "    secret_key = os.getenv(secret_env_name)\n",
    "    access_key = os.getenv(access_key_env_name)\n",
    "\n",
    "    # Check if the environment variable exists\n",
    "    if secret_key is not None:\n",
    "        print(f\"Retrieved environment variable: {secret_env_name} successfully\")\n",
    "    else:\n",
    "        print(f\"The environment variable {secret_env_name} does not exist.\")\n",
    "\n",
    "    # Check if the environment variable exists\n",
    "    if access_key is not None:\n",
    "        print(f\"Retrieved environment variable {access_key_env_name} successfully.\")\n",
    "    else:\n",
    "        print(f\"The environment variable {access_key_env_name} does not exist.\")\n",
    "\n",
    "    return access_key, secret_key\n",
    "\n",
    "\n",
    "def connect_to_aws_s3(access_key, secret_key):\n",
    "        # Create an S3 client with the provided access keys\n",
    "    s3 = boto3.client('s3', aws_access_key_id=access_key, aws_secret_access_key=secret_key)\n",
    "\n",
    "    return s3\n",
    "\n",
    "def upload_to_s3(bucket_name, file_name, data, s3):\n",
    "    \"\"\"\n",
    "    Uploads data to an S3 bucket using AWS access keys.\n",
    "    \"\"\"\n",
    "    # Upload data to the specified bucket with the specified file name\n",
    "    try:\n",
    "        response = s3.put_object(\n",
    "            Body=data,\n",
    "            Bucket=bucket_name,\n",
    "            Key=file_name\n",
    "        )\n",
    "        print(f\"Data uploaded successfully to s3://{bucket_name}/{file_name}\")\n",
    "    except Exception as e:\n",
    "        print(f\"Error uploading data to S3: {e}\")\n",
    "\n",
    "\n",
    "def main():\n",
    "    # Read the S3 storage secrets from the environment.\n",
    "    access_key, secret_key = get_secrets(\"secrets.yaml\")\n",
    "\n",
    "    #s3 = connect_to_aws_s3(access_key, secret_key)\n",
    "\n",
    "    # Read the file and extract the data\n",
    "    #file_path = 'addresses.txt'\n",
    "    #with open(file_path, 'r') as file:\n",
    "    #    data = file.read()\n",
    "\n",
    "    # Specify the S3 bucket name, desired file name, and AWS access keys\n",
    "    #bucket_name = 'brbaker-s3-demo-bucket2'\n",
    "    #file_name = 'addresses-new2.txt'\n",
    "\n",
    "    # Upload the data to S3 using AWS access keys\n",
    "    #upload_to_s3(bucket_name, file_name, data, s3)\n"
   ]
  },
  {
   "cell_type": "code",
   "execution_count": 4,
   "id": "141ae63e-1e1b-41c6-a27a-72c85a06afb1",
   "metadata": {},
   "outputs": [
    {
     "name": "stdout",
     "output_type": "stream",
     "text": [
      "Retrieved environment variable: AWS_SECRET_ACCESS_KEY successfully\n",
      "Retrieved environment variable AWS_ACCESS_KEY_ID successfully.\n"
     ]
    }
   ],
   "source": [
    "if __name__ == \"__main__\":\n",
    "    main()"
   ]
  },
  {
   "cell_type": "code",
   "execution_count": null,
   "id": "4ad80bba-9a99-4b4c-be2d-a2b445b310df",
   "metadata": {},
   "outputs": [],
   "source": []
  }
 ],
 "metadata": {
  "kernelspec": {
   "display_name": "Python 3.9.16",
   "language": "python",
   "name": "python3"
  },
  "language_info": {
   "codemirror_mode": {
    "name": "ipython",
    "version": 3
   },
   "file_extension": ".py",
   "mimetype": "text/x-python",
   "name": "python",
   "nbconvert_exporter": "python",
   "pygments_lexer": "ipython3",
   "version": "3.9.16"
  }
 },
 "nbformat": 4,
 "nbformat_minor": 5
}

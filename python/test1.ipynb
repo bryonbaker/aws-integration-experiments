{
 "cells": [
  {
   "cell_type": "markdown",
   "id": "8aa99573-32d5-418e-b011-4f8f4ca24279",
   "metadata": {},
   "source": [
    "# Install essential libraries"
   ]
  },
  {
   "cell_type": "code",
   "execution_count": 5,
   "id": "322a36ce-5b48-46c8-9361-de64abbed243",
   "metadata": {},
   "outputs": [
    {
     "name": "stdout",
     "output_type": "stream",
     "text": [
      "Importing package boto3\n",
      "Importing package os\n",
      "Importing package json\n",
      "Libraries loaded\n"
     ]
    }
   ],
   "source": [
    "import importlib\n",
    "import subprocess\n",
    "\n",
    "def import_or_install(package_name):\n",
    "    try:\n",
    "        print(f\"Importing package {package_name}\")\n",
    "        importlib.import_module(package_name)\n",
    "    except ImportError:\n",
    "        print(f\"Package not installed. Installing package: {package_name}\")\n",
    "        subprocess.run([\"pip\", \"install\", package_name], check=True)\n",
    "        importlib.invalidate_caches()\n",
    "\n",
    "\n",
    "# Dynamically load/import required modules to avoid having to build bespoke runtime images for pipelines.\n",
    "import_or_install(\"boto3\")\n",
    "import_or_install(\"os\")\n",
    "import_or_install(\"json\")\n",
    "\n",
    "# Import the modules just dynamically loaded or installed.\n",
    "import os\n",
    "import boto3\n",
    "import json\n",
    "\n",
    "print(\"Libraries loaded\")"
   ]
  },
  {
   "cell_type": "code",
   "execution_count": 9,
   "id": "2b600088-6c54-4390-a7d8-690c47f93198",
   "metadata": {},
   "outputs": [],
   "source": [
    "def get_secrets(file_name):\n",
    "    # AWS_SECRET_ACCESS_KEY\n",
    "    # AWS_ACCESS_KEY_ID\n",
    "    secret_env_name = 'AWS_SECRET_ACCESS_KEY'\n",
    "    access_key_env_name = 'AWS_ACCESS_KEY_ID'\n",
    "\n",
    "    # Retrieve the value of the environment variable\n",
    "    secret_key = os.getenv(secret_env_name)\n",
    "    access_key = os.getenv(access_key_env_name)\n",
    "\n",
    "    # Check if the environment variable exists\n",
    "    if secret_key is not None:\n",
    "        print(f\"Retrieved environment variable: {secret_env_name} successfully\")\n",
    "    else:\n",
    "        print(f\"The environment variable {secret_env_name} does not exist.\")\n",
    "\n",
    "    # Check if the environment variable exists\n",
    "    if access_key is not None:\n",
    "        print(f\"Retrieved environment variable {access_key_env_name} successfully.\")\n",
    "    else:\n",
    "        print(f\"The environment variable {access_key_env_name} does not exist.\")\n",
    "\n",
    "    return access_key, secret_key\n",
    "\n",
    "\n",
    "def connect_to_aws_s3(access_key, secret_key):\n",
    "        # Create an S3 client with the provided access keys\n",
    "    s3 = boto3.client('s3', aws_access_key_id=access_key, aws_secret_access_key=secret_key)\n",
    "\n",
    "    return s3\n",
    "\n",
    "\n",
    "def upload_to_s3(bucket_name, file_name, data, s3):\n",
    "    \"\"\"\n",
    "    Uploads data to an S3 bucket using AWS access keys.\n",
    "    \"\"\"\n",
    "    # Upload data to the specified bucket with the specified file name\n",
    "    try:\n",
    "        response = s3.put_object(\n",
    "            Body=data,\n",
    "            Bucket=bucket_name,\n",
    "            Key=file_name\n",
    "        )\n",
    "        print(f\"Data uploaded successfully to s3://{bucket_name}/{file_name}\")\n",
    "    except Exception as e:\n",
    "        print(f\"Error uploading data to S3: {e}\")\n",
    "\n",
    "\n",
    "def generate_addresses():\n",
    "    # Generate the addresses programatically as the pipeline does not have access to any files.\n",
    "    addresses = [\n",
    "        {\"name\": \"John Doe\", \"address\": \"123 Main St\", \"city\": \"New York\"},\n",
    "        {\"name\": \"Jane Smith\", \"address\": \"456 Oak Ave\", \"city\": \"Los Angeles\"},\n",
    "        # Add more addresses as needed\n",
    "    ]\n",
    "    return addresses\n",
    "\n",
    "\n",
    "def main():\n",
    "    # Read the S3 storage secrets from the environment.\n",
    "    access_key, secret_key = get_secrets(\"secrets.yaml\")\n",
    "\n",
    "    s3 = connect_to_aws_s3(access_key, secret_key)\n",
    "\n",
    "    # Read the file and extract the data\n",
    "    #file_path = 'addresses.txt'\n",
    "    #with open(file_path, 'r') as file:\n",
    "    #    data = file.read()\n",
    "\n",
    "    # Generate addresses programmatically\n",
    "    addresses_data = generate_addresses()\n",
    "\n",
    "    # Convert the addresses to JSON format (you can use 'yaml.dump()' if you prefer YAML)\n",
    "    addresses_json = json.dumps(addresses_data)\n",
    "\n",
    "    # Specify the S3 bucket name, desired file name, and AWS access keys\n",
    "    bucket_name = 'brbaker-s3-demo-bucket'\n",
    "    file_name = 'addresses-new2.txt'\n",
    "\n",
    "    # Upload the data to S3 using AWS access keys\n",
    "    upload_to_s3(bucket_name, file_name, addresses_json, s3)\n"
   ]
  },
  {
   "cell_type": "code",
   "execution_count": 10,
   "id": "141ae63e-1e1b-41c6-a27a-72c85a06afb1",
   "metadata": {},
   "outputs": [],
   "source": [
    "#if __name__ == \"__main__\":\n",
    "#    print(\"Running main()\")\n",
    "#    main()"
   ]
  },
  {
   "cell_type": "code",
   "execution_count": 11,
   "id": "83b30a4e-60e4-44e0-ab6c-9dbbed835185",
   "metadata": {},
   "outputs": [
    {
     "name": "stdout",
     "output_type": "stream",
     "text": [
      "Running main()\n",
      "Retrieved environment variable: AWS_SECRET_ACCESS_KEY successfully\n",
      "Retrieved environment variable AWS_ACCESS_KEY_ID successfully.\n",
      "Data uploaded successfully to s3://brbaker-s3-demo-bucket/addresses-new2.txt\n",
      "***** COMPLETED *****\n"
     ]
    }
   ],
   "source": [
    "print(\"Running main()\")\n",
    "main()\n",
    "print(\"***** COMPLETED *****\")"
   ]
  },
  {
   "cell_type": "code",
   "execution_count": null,
   "id": "38afb3fd-76d6-40cc-a5ef-9f30741c230d",
   "metadata": {},
   "outputs": [],
   "source": []
  }
 ],
 "metadata": {
  "kernelspec": {
   "display_name": "Python 3.9.16",
   "language": "python",
   "name": "python3"
  },
  "language_info": {
   "codemirror_mode": {
    "name": "ipython",
    "version": 3
   },
   "file_extension": ".py",
   "mimetype": "text/x-python",
   "name": "python",
   "nbconvert_exporter": "python",
   "pygments_lexer": "ipython3",
   "version": "3.9.16"
  }
 },
 "nbformat": 4,
 "nbformat_minor": 5
}

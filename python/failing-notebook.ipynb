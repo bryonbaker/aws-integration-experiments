{
 "cells": [
  {
   "cell_type": "code",
   "execution_count": 1,
   "id": "40b375a6-e88f-4ef0-8969-e604b55fd81e",
   "metadata": {},
   "outputs": [],
   "source": [
    "def offending_function( v ):\n",
    "    x = v / 0    # Error here\n",
    "    print(f\"The value of x is {x}\")"
   ]
  },
  {
   "cell_type": "code",
   "execution_count": 2,
   "id": "62abf7e6-0902-4834-97fa-b007b5e704db",
   "metadata": {},
   "outputs": [
    {
     "name": "stdout",
     "output_type": "stream",
     "text": [
      "This is the failing notebook\n"
     ]
    }
   ],
   "source": [
    "print(\"This is the failing notebook\")"
   ]
  },
  {
   "cell_type": "markdown",
   "id": "9fd6b69a-989c-4cd8-9154-ca26a5f5ceb6",
   "metadata": {},
   "source": [
    "The is some doco"
   ]
  },
  {
   "cell_type": "code",
   "execution_count": 3,
   "id": "c9ade8a6-18b7-49ea-b87e-4d5a5d6032a6",
   "metadata": {},
   "outputs": [
    {
     "name": "stdout",
     "output_type": "stream",
     "text": [
      "The value of a is 3.141592654\n"
     ]
    },
    {
     "ename": "ZeroDivisionError",
     "evalue": "float division by zero",
     "output_type": "error",
     "traceback": [
      "\u001b[0;31m---------------------------------------------------------------------------\u001b[0m",
      "\u001b[0;31mZeroDivisionError\u001b[0m                         Traceback (most recent call last)",
      "Cell \u001b[0;32mIn[3], line 4\u001b[0m\n\u001b[1;32m      1\u001b[0m pi \u001b[38;5;241m=\u001b[39m \u001b[38;5;241m3.141592654\u001b[39m\n\u001b[1;32m      2\u001b[0m \u001b[38;5;28mprint\u001b[39m(\u001b[38;5;124mf\u001b[39m\u001b[38;5;124m\"\u001b[39m\u001b[38;5;124mThe value of a is \u001b[39m\u001b[38;5;132;01m{\u001b[39;00mpi\u001b[38;5;132;01m}\u001b[39;00m\u001b[38;5;124m\"\u001b[39m)\n\u001b[0;32m----> 4\u001b[0m \u001b[43moffending_function\u001b[49m\u001b[43m(\u001b[49m\u001b[43mpi\u001b[49m\u001b[43m)\u001b[49m\n",
      "Cell \u001b[0;32mIn[1], line 2\u001b[0m, in \u001b[0;36moffending_function\u001b[0;34m(v)\u001b[0m\n\u001b[1;32m      1\u001b[0m \u001b[38;5;28;01mdef\u001b[39;00m \u001b[38;5;21moffending_function\u001b[39m( v ):\n\u001b[0;32m----> 2\u001b[0m     x \u001b[38;5;241m=\u001b[39m \u001b[43mv\u001b[49m\u001b[43m \u001b[49m\u001b[38;5;241;43m/\u001b[39;49m\u001b[43m \u001b[49m\u001b[38;5;241;43m0\u001b[39;49m    \u001b[38;5;66;03m# Error here\u001b[39;00m\n\u001b[1;32m      3\u001b[0m     \u001b[38;5;28mprint\u001b[39m(\u001b[38;5;124mf\u001b[39m\u001b[38;5;124m\"\u001b[39m\u001b[38;5;124mThe value of x is \u001b[39m\u001b[38;5;132;01m{\u001b[39;00mx\u001b[38;5;132;01m}\u001b[39;00m\u001b[38;5;124m\"\u001b[39m)\n",
      "\u001b[0;31mZeroDivisionError\u001b[0m: float division by zero"
     ]
    }
   ],
   "source": [
    "pi = 3.141592654\n",
    "print(f\"The value of a is {pi}\")\n",
    "\n",
    "offending_function(pi)"
   ]
  },
  {
   "cell_type": "code",
   "execution_count": null,
   "id": "c76a9600-d291-4a9f-b575-674373e0dad2",
   "metadata": {},
   "outputs": [],
   "source": []
  },
  {
   "cell_type": "code",
   "execution_count": null,
   "id": "464f14f8-7644-410b-8399-2546f306db59",
   "metadata": {},
   "outputs": [],
   "source": []
  }
 ],
 "metadata": {
  "kernelspec": {
   "display_name": "Python 3.9",
   "language": "python",
   "name": "python3"
  },
  "language_info": {
   "codemirror_mode": {
    "name": "ipython",
    "version": 3
   },
   "file_extension": ".py",
   "mimetype": "text/x-python",
   "name": "python",
   "nbconvert_exporter": "python",
   "pygments_lexer": "ipython3",
   "version": "3.9.16"
  }
 },
 "nbformat": 4,
 "nbformat_minor": 5
}
